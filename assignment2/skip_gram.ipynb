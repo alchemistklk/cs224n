{
 "cells": [
  {
   "cell_type": "markdown",
   "source": [
    "## Understanding word2vec"
   ],
   "metadata": {
    "collapsed": false
   },
   "id": "c62b0376027784b"
  },
  {
   "cell_type": "markdown",
   "source": [
    "### 1. Skip-Gram Algorithm"
   ],
   "metadata": {
    "collapsed": false
   },
   "id": "ab8e889068c7cfd1"
  },
  {
   "cell_type": "markdown",
   "source": [
    "The goal of skip-gram word2vec algorithm is to accurately learn the probability distribution P(O|C).\n",
    "Given a specific word $o$ and a specific word $c$, we want to calculate P(O = o|C = c), which is the probability that\n",
    "word $o$ is an `outside` word for c. "
   ],
   "metadata": {
    "collapsed": false
   },
   "id": "cac07e609cfd4825"
  },
  {
   "cell_type": "code",
   "execution_count": null,
   "outputs": [],
   "source": [
    "### "
   ],
   "metadata": {
    "collapsed": false
   },
   "id": "3e0b0605651731b2"
  }
 ],
 "metadata": {
  "kernelspec": {
   "display_name": "Python 3",
   "language": "python",
   "name": "python3"
  },
  "language_info": {
   "codemirror_mode": {
    "name": "ipython",
    "version": 2
   },
   "file_extension": ".py",
   "mimetype": "text/x-python",
   "name": "python",
   "nbconvert_exporter": "python",
   "pygments_lexer": "ipython2",
   "version": "2.7.6"
  }
 },
 "nbformat": 4,
 "nbformat_minor": 5
}
